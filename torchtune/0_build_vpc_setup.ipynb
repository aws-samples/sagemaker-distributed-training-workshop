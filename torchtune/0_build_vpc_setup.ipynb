{
 "cells": [
  {
   "cell_type": "markdown",
   "id": "d9275057",
   "metadata": {},
   "source": [
    "## SageMaker training with EFS"
   ]
  },
  {
   "cell_type": "markdown",
   "id": "4ed23fa2",
   "metadata": {},
   "source": [
    "This sample shows how to:\n",
    "\n",
    "- Setup VPC\n",
    "- Setup EFS\n",
    "- Setup Security Group \n",
    "\n",
    "**Please make sure the CIDR block in setup/cfn-nlp.yaml does not conflict with your existing VPC. **"
   ]
  },
  {
   "cell_type": "code",
   "execution_count": 1,
   "id": "8f271394-995e-40b5-8e66-aae21d23c054",
   "metadata": {
    "tags": []
   },
   "outputs": [
    {
     "name": "stderr",
     "output_type": "stream",
     "text": [
      "/home/ec2-user/anaconda3/envs/python3/lib/python3.10/site-packages/sagemaker/base_serializers.py:28: UserWarning: A NumPy version >=1.23.5 and <2.3.0 is required for this version of SciPy (detected version 1.22.4)\n",
      "  import scipy.sparse\n"
     ]
    },
    {
     "name": "stdout",
     "output_type": "stream",
     "text": [
      "sagemaker.config INFO - Not applying SDK defaults from location: /etc/xdg/sagemaker/config.yaml\n",
      "sagemaker.config INFO - Not applying SDK defaults from location: /home/ec2-user/.config/sagemaker/config.yaml\n",
      "sagemaker session region: us-west-2\n"
     ]
    }
   ],
   "source": [
    "import sagemaker, boto3, time, json\n",
    "\n",
    "sagemaker_session = sagemaker.Session()\n",
    "\n",
    "print(f\"sagemaker session region: {sagemaker_session.boto_region_name}\")"
   ]
  },
  {
   "cell_type": "code",
   "execution_count": 2,
   "id": "d5ee215a",
   "metadata": {
    "tags": []
   },
   "outputs": [],
   "source": [
    "# CF Setup\n",
    "region = sagemaker_session.boto_region_name  # update this if your region is different\n",
    "\n",
    "# Clients\n",
    "cfn_client = boto3.client(\"cloudformation\", region_name=region)\n",
    "fsx_client = boto3.client(\"fsx\", region_name=region)\n",
    "\n",
    "# Inputs\n",
    "region_az = \"us-west-2a\"  # customize this as needed. Your EFS will be set up in a subnet in this AZ"
   ]
  },
  {
   "cell_type": "code",
   "execution_count": 7,
   "id": "c9a6674a",
   "metadata": {
    "tags": []
   },
   "outputs": [
    {
     "data": {
      "text/plain": [
       "{'StackId': 'arn:aws:cloudformation:us-west-2:015476483300:stack/vpc-setup-for-torchtune-2024-10-15-15-03-12/98f23710-8b06-11ef-8d16-0667c3ef04d1',\n",
       " 'ResponseMetadata': {'RequestId': '0eb9b55a-d28b-4389-81fb-eb4694a48e15',\n",
       "  'HTTPStatusCode': 200,\n",
       "  'HTTPHeaders': {'x-amzn-requestid': '0eb9b55a-d28b-4389-81fb-eb4694a48e15',\n",
       "   'date': 'Tue, 15 Oct 2024 15:03:12 GMT',\n",
       "   'content-type': 'text/xml',\n",
       "   'content-length': '413',\n",
       "   'connection': 'keep-alive'},\n",
       "  'RetryAttempts': 0}}"
      ]
     },
     "execution_count": 7,
     "metadata": {},
     "output_type": "execute_result"
    }
   ],
   "source": [
    "# Execute the CF stack\n",
    "\n",
    "timestamp = time.strftime(\"%Y-%m-%d-%H-%M-%S\")\n",
    "cfn_stack_name = f'vpc-setup-for-torchtune-{timestamp}'  # cloudformation stack name\n",
    "\n",
    "# Setup infrastructure using CloudFormation\n",
    "with open(\"scripts/cfn-nlp.yaml\", \"r\") as f:\n",
    "    template_body = f.read()\n",
    "    \n",
    "create_stack_response = cfn_client.create_stack(\n",
    "    StackName=cfn_stack_name,\n",
    "    TemplateBody=template_body,\n",
    "    Parameters=[\n",
    "        {\n",
    "            'ParameterKey': 'AZ',\n",
    "            'ParameterValue': region_az\n",
    "        }\n",
    "    ]\n",
    ")\n",
    "\n",
    "create_stack_response"
   ]
  },
  {
   "cell_type": "code",
   "execution_count": 8,
   "id": "470c9d12-dbdc-4d6f-bc3c-81a7ac3d4723",
   "metadata": {
    "tags": []
   },
   "outputs": [
    {
     "data": {
      "text/plain": [
       "'vpc-setup-for-torchtune-2024-10-15-15-03-12'"
      ]
     },
     "execution_count": 8,
     "metadata": {},
     "output_type": "execute_result"
    }
   ],
   "source": [
    "# Stack name that we will create\n",
    "\n",
    "stack_name = create_stack_response['StackId'].split('/')[-2]\n",
    "stack_name"
   ]
  },
  {
   "cell_type": "code",
   "execution_count": 9,
   "id": "e3bf00ef-89ff-4558-9c02-3bdd236e9424",
   "metadata": {
    "tags": []
   },
   "outputs": [
    {
     "name": "stdout",
     "output_type": "stream",
     "text": [
      "Waiting for stack vpc-setup-for-torchtune-2024-10-15-15-03-12 to complete...\n",
      "Current status: CREATE_IN_PROGRESS. Waiting...\n",
      "Current status: CREATE_IN_PROGRESS. Waiting...\n",
      "Current status: CREATE_IN_PROGRESS. Waiting...\n",
      "Current status: CREATE_IN_PROGRESS. Waiting...\n",
      "Stack vpc-setup-for-torchtune-2024-10-15-15-03-12 completed with status: CREATE_COMPLETE\n"
     ]
    }
   ],
   "source": [
    "# Wait for CF stack to complete\n",
    "\n",
    "def wait_for_stack_completion(stack_name, region):\n",
    "    cf_client = boto3.client('cloudformation', region_name=region)\n",
    "    \n",
    "    print(f\"Waiting for stack {stack_name} to complete...\")\n",
    "    while True:\n",
    "        response = cf_client.describe_stacks(StackName=stack_name)\n",
    "        status = response['Stacks'][0]['StackStatus']\n",
    "        \n",
    "        if status.endswith('_COMPLETE'):\n",
    "            print(f\"Stack {stack_name} completed with status: {status}\")\n",
    "            break\n",
    "        elif status.endswith('_FAILED'):\n",
    "            print(f\"Stack {stack_name} failed with status: {status}\")\n",
    "            break\n",
    "        else:\n",
    "            print(f\"Current status: {status}. Waiting...\")\n",
    "            time.sleep(30)\n",
    "\n",
    "# Replace with your actual stack name\n",
    "wait_for_stack_completion(stack_name, region)"
   ]
  },
  {
   "cell_type": "code",
   "execution_count": 17,
   "id": "273547d5",
   "metadata": {
    "tags": []
   },
   "outputs": [
    {
     "name": "stdout",
     "output_type": "stream",
     "text": [
      "sg-045de559bb87ac814\n",
      "subnet-006e7d64b8f6ce47b\n",
      "fs-064f90a1bc9c12c76\n",
      "done\n",
      "Stack Outputs:\n"
     ]
    }
   ],
   "source": [
    "# Get EFS-id, private-subnet-id and EFS-id for next step of fine-tuning\n",
    "\n",
    "def get_stack_outputs(stack_name, region='us-east-1'):\n",
    "    \"\"\"\n",
    "    Retrieves all outputs from a CloudFormation stack.\n",
    "    \n",
    "    :param stack_name: Name of the CloudFormation stack\n",
    "    :param region: AWS region where the stack is deployed (default is 'us-east-1')\n",
    "    :return: Dictionary of stack outputs\n",
    "    \"\"\"\n",
    "    cfn_client = boto3.client('cloudformation', region_name=region)\n",
    "    \n",
    "    try:\n",
    "        response = cfn_client.describe_stacks(StackName=stack_name)\n",
    "        stack_outputs = response['Stacks'][0]['Outputs']\n",
    "        \n",
    "       # print(stack_outputs)\n",
    "        # Convert the list of outputs to a dictionary for easier access\n",
    "        outputs_dict = {output['OutputKey']: output['OutputValue'] for output in stack_outputs}\n",
    "       \n",
    "\n",
    "        return outputs_dict\n",
    "    \n",
    "    except Exception as e:\n",
    "        print(f\"Error retrieving stack outputs: {str(e)}\")\n",
    "        return None\n",
    "\n",
    "stack_name='vpc-setup-for-torchtune-2024-10-15-15-03-12'\n",
    "outputs = get_stack_outputs(stack_name, region)\n",
    "print(outputs['sg'])\n",
    "print(outputs['privatesubnet'])\n",
    "print(outputs['outputEFS'])\n",
    "\n",
    "\n",
    "print(\"done\")\n",
    "if outputs:\n",
    "    print(\"Stack Outputs:\")\n",
    "    #for key, value in outputs.items():\n",
    "       # print(f\"{key}: {value}\")\n",
    "else:\n",
    "    print(\"Failed to retrieve stack outputs.\")"
   ]
  },
  {
   "cell_type": "code",
   "execution_count": null,
   "id": "c123fc69-0dbf-4826-a7d1-a0379211a15d",
   "metadata": {},
   "outputs": [],
   "source": []
  }
 ],
 "metadata": {
  "kernelspec": {
   "display_name": "conda_python3",
   "language": "python",
   "name": "conda_python3"
  },
  "language_info": {
   "codemirror_mode": {
    "name": "ipython",
    "version": 3
   },
   "file_extension": ".py",
   "mimetype": "text/x-python",
   "name": "python",
   "nbconvert_exporter": "python",
   "pygments_lexer": "ipython3",
   "version": "3.10.14"
  }
 },
 "nbformat": 4,
 "nbformat_minor": 5
}
